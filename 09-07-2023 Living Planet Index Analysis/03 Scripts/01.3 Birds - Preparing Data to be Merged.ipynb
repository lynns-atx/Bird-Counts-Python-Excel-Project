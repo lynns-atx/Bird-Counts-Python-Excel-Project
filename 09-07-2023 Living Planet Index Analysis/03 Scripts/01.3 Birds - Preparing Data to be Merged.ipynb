{
 "cells": [
  {
   "cell_type": "markdown",
   "id": "7376938a",
   "metadata": {},
   "source": [
    "### Note: After correcting the units used in Microsoft Excel, I realized that I wanted to do some analysis on the taxonomy information.  I removed these columns when I initially cleaned the data.  In this notebook, I go back through and prepare the original data to be joined at the taxonomy columns to my clean birds data.\n",
    "\n",
    "\n",
    "# Table of Contents\n",
    "## 1. Import Libraries & Data\n",
    "## 2. Data Wrangling\n",
    "## 3. Creating a Table with Only Birds\n",
    "## 4. Save Data"
   ]
  },
  {
   "cell_type": "markdown",
   "id": "32c298f2",
   "metadata": {},
   "source": [
    "## 1. Import Libraries & Data"
   ]
  },
  {
   "cell_type": "code",
   "execution_count": 1,
   "id": "bcbe0b56",
   "metadata": {},
   "outputs": [],
   "source": [
    "# Import Libraries\n",
    "import pandas as pd\n",
    "import numpy as np\n",
    "import os"
   ]
  },
  {
   "cell_type": "code",
   "execution_count": 2,
   "id": "13743974",
   "metadata": {},
   "outputs": [
    {
     "name": "stderr",
     "output_type": "stream",
     "text": [
      "/var/folders/kk/6z0tdmb13cd8dwpkbrq630qw0000gn/T/ipykernel_26748/59007774.py:2: DtypeWarning: Columns (28) have mixed types. Specify dtype option on import or set low_memory=False.\n",
      "  lp = pd.read_csv(r'/Users/lynnsey/Desktop/Bootcamp/Tasks/Immersion/Task 6/09-07-2023 Living Planet Index Analysis/02 Data/Original Data/LPD2022_public.csv', index_col = False)\n"
     ]
    }
   ],
   "source": [
    "#Import Data\n",
    "lp = pd.read_csv(r'/Users/lynnsey/Desktop/Bootcamp/Tasks/Immersion/Task 6/09-07-2023 Living Planet Index Analysis/02 Data/Original Data/LPD2022_public.csv', index_col = False)"
   ]
  },
  {
   "cell_type": "code",
   "execution_count": 3,
   "id": "7df03d50",
   "metadata": {},
   "outputs": [],
   "source": [
    "pd.set_option('display.max_columns', None)"
   ]
  },
  {
   "cell_type": "markdown",
   "id": "13450d35",
   "metadata": {},
   "source": [
    "## 2. Data Wrangling"
   ]
  },
  {
   "cell_type": "markdown",
   "id": "be3fa820",
   "metadata": {},
   "source": [
    "### Dropping columns not needed for analysis"
   ]
  },
  {
   "cell_type": "code",
   "execution_count": 4,
   "id": "6ec16b28",
   "metadata": {},
   "outputs": [],
   "source": [
    "lp_v2 = lp.drop(columns = ['Replicate', 'Citation', 'Authority', 'Location', 'All_countries', 'IPBES_region', 'IPBES_subregion', 'Latitude', 'Longitude', 'Specific_location', 'T_realm', 'T_biome', 'FW_realm', 'FW_biome', 'M_realm', 'M_ocean', 'M_biome', 'Migratory_fw_fish', 'Units', 'Method'])"
   ]
  },
  {
   "cell_type": "code",
   "execution_count": 5,
   "id": "1a14a8f6",
   "metadata": {},
   "outputs": [],
   "source": [
    "lp_v2 = lp_v2.drop(columns = ['1950', '1951', '1952', '1953', '1954', '1955', '1956', '1957', '1958', '1959', '1960', '1961', '1962', '1963', '1964', '1965', '1966', '1967', '1968', '1969', '1970', '1971', '1972', '1973', '1974', '1975', '1976', '1977', '1978', '1979', '1980', '1981', '1982', '1983', '1984', '1985', '1986', '1987', '1988', '1989', '1990', '1991', '1992', '1993', '1994', '1995', '1996', '1997', '1998', '1999', '2000', '2001', '2002', '2003', '2004', '2005', '2006', '2007', '2008', '2009', '2010', '2011', '2012', '2013', '2014', '2015', '2016', '2017', '2018', '2019', '2020'])"
   ]
  },
  {
   "cell_type": "code",
   "execution_count": 6,
   "id": "3ab5b11b",
   "metadata": {},
   "outputs": [],
   "source": [
    "lp_v2 = lp_v2.drop(columns = 'Subspecies')"
   ]
  },
  {
   "cell_type": "code",
   "execution_count": 7,
   "id": "533b335e",
   "metadata": {},
   "outputs": [
    {
     "data": {
      "text/html": [
       "<div>\n",
       "<style scoped>\n",
       "    .dataframe tbody tr th:only-of-type {\n",
       "        vertical-align: middle;\n",
       "    }\n",
       "\n",
       "    .dataframe tbody tr th {\n",
       "        vertical-align: top;\n",
       "    }\n",
       "\n",
       "    .dataframe thead th {\n",
       "        text-align: right;\n",
       "    }\n",
       "</style>\n",
       "<table border=\"1\" class=\"dataframe\">\n",
       "  <thead>\n",
       "    <tr style=\"text-align: right;\">\n",
       "      <th></th>\n",
       "      <th>ID</th>\n",
       "      <th>Binomial</th>\n",
       "      <th>Class</th>\n",
       "      <th>Order</th>\n",
       "      <th>Family</th>\n",
       "      <th>Genus</th>\n",
       "      <th>Species</th>\n",
       "      <th>Common_name</th>\n",
       "      <th>Country</th>\n",
       "      <th>Region</th>\n",
       "      <th>System</th>\n",
       "    </tr>\n",
       "  </thead>\n",
       "  <tbody>\n",
       "    <tr>\n",
       "      <th>0</th>\n",
       "      <td>1</td>\n",
       "      <td>Balearica_regulorum</td>\n",
       "      <td>Aves</td>\n",
       "      <td>Gruiformes</td>\n",
       "      <td>Gruidae</td>\n",
       "      <td>Balearica</td>\n",
       "      <td>regulorum</td>\n",
       "      <td>Grey-crowned crane</td>\n",
       "      <td>Uganda</td>\n",
       "      <td>Africa</td>\n",
       "      <td>Terrestrial</td>\n",
       "    </tr>\n",
       "    <tr>\n",
       "      <th>1</th>\n",
       "      <td>2</td>\n",
       "      <td>Acrocephalus_sechellensis</td>\n",
       "      <td>Aves</td>\n",
       "      <td>Passeriformes</td>\n",
       "      <td>Acrocephalidae</td>\n",
       "      <td>Acrocephalus</td>\n",
       "      <td>sechellensis</td>\n",
       "      <td>Seychelles warbler</td>\n",
       "      <td>Seychelles</td>\n",
       "      <td>Africa</td>\n",
       "      <td>Terrestrial</td>\n",
       "    </tr>\n",
       "    <tr>\n",
       "      <th>2</th>\n",
       "      <td>3</td>\n",
       "      <td>Copsychus_sechellarum</td>\n",
       "      <td>Aves</td>\n",
       "      <td>Passeriformes</td>\n",
       "      <td>Muscicapidae</td>\n",
       "      <td>Copsychus</td>\n",
       "      <td>sechellarum</td>\n",
       "      <td>Seychelles magpie-robin</td>\n",
       "      <td>Seychelles</td>\n",
       "      <td>Africa</td>\n",
       "      <td>Terrestrial</td>\n",
       "    </tr>\n",
       "    <tr>\n",
       "      <th>3</th>\n",
       "      <td>4</td>\n",
       "      <td>Copsychus_sechellarum</td>\n",
       "      <td>Aves</td>\n",
       "      <td>Passeriformes</td>\n",
       "      <td>Muscicapidae</td>\n",
       "      <td>Copsychus</td>\n",
       "      <td>sechellarum</td>\n",
       "      <td>Seychelles magpie-robin</td>\n",
       "      <td>Seychelles</td>\n",
       "      <td>Africa</td>\n",
       "      <td>Terrestrial</td>\n",
       "    </tr>\n",
       "    <tr>\n",
       "      <th>4</th>\n",
       "      <td>5</td>\n",
       "      <td>Falco_punctatus</td>\n",
       "      <td>Aves</td>\n",
       "      <td>Falconiformes</td>\n",
       "      <td>Falconidae</td>\n",
       "      <td>Falco</td>\n",
       "      <td>punctatus</td>\n",
       "      <td>Mauritius kestrel</td>\n",
       "      <td>Mauritius</td>\n",
       "      <td>Africa</td>\n",
       "      <td>Terrestrial</td>\n",
       "    </tr>\n",
       "  </tbody>\n",
       "</table>\n",
       "</div>"
      ],
      "text/plain": [
       "   ID                   Binomial Class          Order          Family  \\\n",
       "0   1        Balearica_regulorum  Aves     Gruiformes         Gruidae   \n",
       "1   2  Acrocephalus_sechellensis  Aves  Passeriformes  Acrocephalidae   \n",
       "2   3      Copsychus_sechellarum  Aves  Passeriformes    Muscicapidae   \n",
       "3   4      Copsychus_sechellarum  Aves  Passeriformes    Muscicapidae   \n",
       "4   5            Falco_punctatus  Aves  Falconiformes      Falconidae   \n",
       "\n",
       "          Genus       Species              Common_name     Country  Region  \\\n",
       "0     Balearica     regulorum       Grey-crowned crane      Uganda  Africa   \n",
       "1  Acrocephalus  sechellensis       Seychelles warbler  Seychelles  Africa   \n",
       "2     Copsychus   sechellarum  Seychelles magpie-robin  Seychelles  Africa   \n",
       "3     Copsychus   sechellarum  Seychelles magpie-robin  Seychelles  Africa   \n",
       "4         Falco     punctatus        Mauritius kestrel   Mauritius  Africa   \n",
       "\n",
       "        System  \n",
       "0  Terrestrial  \n",
       "1  Terrestrial  \n",
       "2  Terrestrial  \n",
       "3  Terrestrial  \n",
       "4  Terrestrial  "
      ]
     },
     "execution_count": 7,
     "metadata": {},
     "output_type": "execute_result"
    }
   ],
   "source": [
    "lp_v2.head()"
   ]
  },
  {
   "cell_type": "markdown",
   "id": "fd689de6",
   "metadata": {},
   "source": [
    "### Renaming columns to better interpret"
   ]
  },
  {
   "cell_type": "code",
   "execution_count": 8,
   "id": "3cf546e5",
   "metadata": {},
   "outputs": [],
   "source": [
    "# Renaming Binomial to scientific_name\n",
    "lp_v2.rename(columns = {'Binomial' : 'scientific_name'}, inplace = True)"
   ]
  },
  {
   "cell_type": "code",
   "execution_count": 9,
   "id": "ec727669",
   "metadata": {},
   "outputs": [],
   "source": [
    "# Renaming ID to id\n",
    "lp_v2.rename(columns = {'ID' : 'id'}, inplace = True)"
   ]
  },
  {
   "cell_type": "code",
   "execution_count": 10,
   "id": "d3559549",
   "metadata": {},
   "outputs": [],
   "source": [
    "# Renaming Common_name to common_name\n",
    "lp_v2.rename(columns = {'Common_name' : 'common_name'}, inplace = True)"
   ]
  },
  {
   "cell_type": "code",
   "execution_count": 11,
   "id": "40b91baa",
   "metadata": {},
   "outputs": [],
   "source": [
    "# Renaming Country to country\n",
    "lp_v2.rename(columns = {'Country' : 'country'}, inplace = True)"
   ]
  },
  {
   "cell_type": "code",
   "execution_count": 12,
   "id": "f6887788",
   "metadata": {},
   "outputs": [],
   "source": [
    "# Renaming Region to region\n",
    "lp_v2.rename(columns = {'Region' : 'region'}, inplace = True)"
   ]
  },
  {
   "cell_type": "code",
   "execution_count": 13,
   "id": "af9fe3d3",
   "metadata": {},
   "outputs": [],
   "source": [
    "# Renaming System to system\n",
    "lp_v2.rename(columns = {'System' : 'system'}, inplace = True)"
   ]
  },
  {
   "cell_type": "code",
   "execution_count": 14,
   "id": "80b4cb03",
   "metadata": {},
   "outputs": [],
   "source": [
    "# Renaming Class to class\n",
    "lp_v2.rename(columns = {'Class' : 'class'}, inplace = True)"
   ]
  },
  {
   "cell_type": "code",
   "execution_count": 15,
   "id": "3782646a",
   "metadata": {},
   "outputs": [],
   "source": [
    "# Renaming Order to order\n",
    "lp_v2.rename(columns = {'Order' : 'order'}, inplace = True)"
   ]
  },
  {
   "cell_type": "code",
   "execution_count": 16,
   "id": "3f2f2307",
   "metadata": {},
   "outputs": [],
   "source": [
    "# Renaming Family to family\n",
    "lp_v2.rename(columns = {'Family' : 'family'}, inplace = True)"
   ]
  },
  {
   "cell_type": "code",
   "execution_count": 17,
   "id": "a48e45d7",
   "metadata": {},
   "outputs": [],
   "source": [
    "# Renaming Genus to genus\n",
    "lp_v2.rename(columns = {'Genus' : 'genus'}, inplace = True)"
   ]
  },
  {
   "cell_type": "code",
   "execution_count": 18,
   "id": "9fe43ffc",
   "metadata": {},
   "outputs": [],
   "source": [
    "# Renaming Species to species\n",
    "lp_v2.rename(columns = {'Species' : 'species'}, inplace = True)"
   ]
  },
  {
   "cell_type": "code",
   "execution_count": 19,
   "id": "03bc8240",
   "metadata": {},
   "outputs": [
    {
     "data": {
      "text/html": [
       "<div>\n",
       "<style scoped>\n",
       "    .dataframe tbody tr th:only-of-type {\n",
       "        vertical-align: middle;\n",
       "    }\n",
       "\n",
       "    .dataframe tbody tr th {\n",
       "        vertical-align: top;\n",
       "    }\n",
       "\n",
       "    .dataframe thead th {\n",
       "        text-align: right;\n",
       "    }\n",
       "</style>\n",
       "<table border=\"1\" class=\"dataframe\">\n",
       "  <thead>\n",
       "    <tr style=\"text-align: right;\">\n",
       "      <th></th>\n",
       "      <th>id</th>\n",
       "      <th>scientific_name</th>\n",
       "      <th>class</th>\n",
       "      <th>order</th>\n",
       "      <th>family</th>\n",
       "      <th>genus</th>\n",
       "      <th>species</th>\n",
       "      <th>common_name</th>\n",
       "      <th>country</th>\n",
       "      <th>region</th>\n",
       "      <th>system</th>\n",
       "    </tr>\n",
       "  </thead>\n",
       "  <tbody>\n",
       "    <tr>\n",
       "      <th>0</th>\n",
       "      <td>1</td>\n",
       "      <td>Balearica_regulorum</td>\n",
       "      <td>Aves</td>\n",
       "      <td>Gruiformes</td>\n",
       "      <td>Gruidae</td>\n",
       "      <td>Balearica</td>\n",
       "      <td>regulorum</td>\n",
       "      <td>Grey-crowned crane</td>\n",
       "      <td>Uganda</td>\n",
       "      <td>Africa</td>\n",
       "      <td>Terrestrial</td>\n",
       "    </tr>\n",
       "    <tr>\n",
       "      <th>1</th>\n",
       "      <td>2</td>\n",
       "      <td>Acrocephalus_sechellensis</td>\n",
       "      <td>Aves</td>\n",
       "      <td>Passeriformes</td>\n",
       "      <td>Acrocephalidae</td>\n",
       "      <td>Acrocephalus</td>\n",
       "      <td>sechellensis</td>\n",
       "      <td>Seychelles warbler</td>\n",
       "      <td>Seychelles</td>\n",
       "      <td>Africa</td>\n",
       "      <td>Terrestrial</td>\n",
       "    </tr>\n",
       "    <tr>\n",
       "      <th>2</th>\n",
       "      <td>3</td>\n",
       "      <td>Copsychus_sechellarum</td>\n",
       "      <td>Aves</td>\n",
       "      <td>Passeriformes</td>\n",
       "      <td>Muscicapidae</td>\n",
       "      <td>Copsychus</td>\n",
       "      <td>sechellarum</td>\n",
       "      <td>Seychelles magpie-robin</td>\n",
       "      <td>Seychelles</td>\n",
       "      <td>Africa</td>\n",
       "      <td>Terrestrial</td>\n",
       "    </tr>\n",
       "    <tr>\n",
       "      <th>3</th>\n",
       "      <td>4</td>\n",
       "      <td>Copsychus_sechellarum</td>\n",
       "      <td>Aves</td>\n",
       "      <td>Passeriformes</td>\n",
       "      <td>Muscicapidae</td>\n",
       "      <td>Copsychus</td>\n",
       "      <td>sechellarum</td>\n",
       "      <td>Seychelles magpie-robin</td>\n",
       "      <td>Seychelles</td>\n",
       "      <td>Africa</td>\n",
       "      <td>Terrestrial</td>\n",
       "    </tr>\n",
       "    <tr>\n",
       "      <th>4</th>\n",
       "      <td>5</td>\n",
       "      <td>Falco_punctatus</td>\n",
       "      <td>Aves</td>\n",
       "      <td>Falconiformes</td>\n",
       "      <td>Falconidae</td>\n",
       "      <td>Falco</td>\n",
       "      <td>punctatus</td>\n",
       "      <td>Mauritius kestrel</td>\n",
       "      <td>Mauritius</td>\n",
       "      <td>Africa</td>\n",
       "      <td>Terrestrial</td>\n",
       "    </tr>\n",
       "  </tbody>\n",
       "</table>\n",
       "</div>"
      ],
      "text/plain": [
       "   id            scientific_name class          order          family  \\\n",
       "0   1        Balearica_regulorum  Aves     Gruiformes         Gruidae   \n",
       "1   2  Acrocephalus_sechellensis  Aves  Passeriformes  Acrocephalidae   \n",
       "2   3      Copsychus_sechellarum  Aves  Passeriformes    Muscicapidae   \n",
       "3   4      Copsychus_sechellarum  Aves  Passeriformes    Muscicapidae   \n",
       "4   5            Falco_punctatus  Aves  Falconiformes      Falconidae   \n",
       "\n",
       "          genus       species              common_name     country  region  \\\n",
       "0     Balearica     regulorum       Grey-crowned crane      Uganda  Africa   \n",
       "1  Acrocephalus  sechellensis       Seychelles warbler  Seychelles  Africa   \n",
       "2     Copsychus   sechellarum  Seychelles magpie-robin  Seychelles  Africa   \n",
       "3     Copsychus   sechellarum  Seychelles magpie-robin  Seychelles  Africa   \n",
       "4         Falco     punctatus        Mauritius kestrel   Mauritius  Africa   \n",
       "\n",
       "        system  \n",
       "0  Terrestrial  \n",
       "1  Terrestrial  \n",
       "2  Terrestrial  \n",
       "3  Terrestrial  \n",
       "4  Terrestrial  "
      ]
     },
     "execution_count": 19,
     "metadata": {},
     "output_type": "execute_result"
    }
   ],
   "source": [
    "# Checking if columns renamed properly\n",
    "lp_v2.head()"
   ]
  },
  {
   "cell_type": "markdown",
   "id": "0ed7e886",
   "metadata": {},
   "source": [
    "### Changing data types to appropriate ones"
   ]
  },
  {
   "cell_type": "code",
   "execution_count": 20,
   "id": "5d6744b4",
   "metadata": {},
   "outputs": [],
   "source": [
    "lp_v2['id'] = lp_v2 ['id'].astype('str')"
   ]
  },
  {
   "cell_type": "markdown",
   "id": "eb0fa599",
   "metadata": {},
   "source": [
    "## 3. Creating a Table with Only Birds"
   ]
  },
  {
   "cell_type": "code",
   "execution_count": 21,
   "id": "a0a3ef77",
   "metadata": {},
   "outputs": [],
   "source": [
    "#Creating a table with only data on birds\n",
    "birds = lp_v2.loc[(lp_v2['class'] == 'Aves')]"
   ]
  },
  {
   "cell_type": "code",
   "execution_count": 22,
   "id": "66630943",
   "metadata": {},
   "outputs": [
    {
     "data": {
      "text/html": [
       "<div>\n",
       "<style scoped>\n",
       "    .dataframe tbody tr th:only-of-type {\n",
       "        vertical-align: middle;\n",
       "    }\n",
       "\n",
       "    .dataframe tbody tr th {\n",
       "        vertical-align: top;\n",
       "    }\n",
       "\n",
       "    .dataframe thead th {\n",
       "        text-align: right;\n",
       "    }\n",
       "</style>\n",
       "<table border=\"1\" class=\"dataframe\">\n",
       "  <thead>\n",
       "    <tr style=\"text-align: right;\">\n",
       "      <th></th>\n",
       "      <th>id</th>\n",
       "      <th>scientific_name</th>\n",
       "      <th>class</th>\n",
       "      <th>order</th>\n",
       "      <th>family</th>\n",
       "      <th>genus</th>\n",
       "      <th>species</th>\n",
       "      <th>common_name</th>\n",
       "      <th>country</th>\n",
       "      <th>region</th>\n",
       "      <th>system</th>\n",
       "    </tr>\n",
       "  </thead>\n",
       "  <tbody>\n",
       "    <tr>\n",
       "      <th>0</th>\n",
       "      <td>1</td>\n",
       "      <td>Balearica_regulorum</td>\n",
       "      <td>Aves</td>\n",
       "      <td>Gruiformes</td>\n",
       "      <td>Gruidae</td>\n",
       "      <td>Balearica</td>\n",
       "      <td>regulorum</td>\n",
       "      <td>Grey-crowned crane</td>\n",
       "      <td>Uganda</td>\n",
       "      <td>Africa</td>\n",
       "      <td>Terrestrial</td>\n",
       "    </tr>\n",
       "    <tr>\n",
       "      <th>1</th>\n",
       "      <td>2</td>\n",
       "      <td>Acrocephalus_sechellensis</td>\n",
       "      <td>Aves</td>\n",
       "      <td>Passeriformes</td>\n",
       "      <td>Acrocephalidae</td>\n",
       "      <td>Acrocephalus</td>\n",
       "      <td>sechellensis</td>\n",
       "      <td>Seychelles warbler</td>\n",
       "      <td>Seychelles</td>\n",
       "      <td>Africa</td>\n",
       "      <td>Terrestrial</td>\n",
       "    </tr>\n",
       "    <tr>\n",
       "      <th>2</th>\n",
       "      <td>3</td>\n",
       "      <td>Copsychus_sechellarum</td>\n",
       "      <td>Aves</td>\n",
       "      <td>Passeriformes</td>\n",
       "      <td>Muscicapidae</td>\n",
       "      <td>Copsychus</td>\n",
       "      <td>sechellarum</td>\n",
       "      <td>Seychelles magpie-robin</td>\n",
       "      <td>Seychelles</td>\n",
       "      <td>Africa</td>\n",
       "      <td>Terrestrial</td>\n",
       "    </tr>\n",
       "    <tr>\n",
       "      <th>3</th>\n",
       "      <td>4</td>\n",
       "      <td>Copsychus_sechellarum</td>\n",
       "      <td>Aves</td>\n",
       "      <td>Passeriformes</td>\n",
       "      <td>Muscicapidae</td>\n",
       "      <td>Copsychus</td>\n",
       "      <td>sechellarum</td>\n",
       "      <td>Seychelles magpie-robin</td>\n",
       "      <td>Seychelles</td>\n",
       "      <td>Africa</td>\n",
       "      <td>Terrestrial</td>\n",
       "    </tr>\n",
       "    <tr>\n",
       "      <th>4</th>\n",
       "      <td>5</td>\n",
       "      <td>Falco_punctatus</td>\n",
       "      <td>Aves</td>\n",
       "      <td>Falconiformes</td>\n",
       "      <td>Falconidae</td>\n",
       "      <td>Falco</td>\n",
       "      <td>punctatus</td>\n",
       "      <td>Mauritius kestrel</td>\n",
       "      <td>Mauritius</td>\n",
       "      <td>Africa</td>\n",
       "      <td>Terrestrial</td>\n",
       "    </tr>\n",
       "  </tbody>\n",
       "</table>\n",
       "</div>"
      ],
      "text/plain": [
       "  id            scientific_name class          order          family  \\\n",
       "0  1        Balearica_regulorum  Aves     Gruiformes         Gruidae   \n",
       "1  2  Acrocephalus_sechellensis  Aves  Passeriformes  Acrocephalidae   \n",
       "2  3      Copsychus_sechellarum  Aves  Passeriformes    Muscicapidae   \n",
       "3  4      Copsychus_sechellarum  Aves  Passeriformes    Muscicapidae   \n",
       "4  5            Falco_punctatus  Aves  Falconiformes      Falconidae   \n",
       "\n",
       "          genus       species              common_name     country  region  \\\n",
       "0     Balearica     regulorum       Grey-crowned crane      Uganda  Africa   \n",
       "1  Acrocephalus  sechellensis       Seychelles warbler  Seychelles  Africa   \n",
       "2     Copsychus   sechellarum  Seychelles magpie-robin  Seychelles  Africa   \n",
       "3     Copsychus   sechellarum  Seychelles magpie-robin  Seychelles  Africa   \n",
       "4         Falco     punctatus        Mauritius kestrel   Mauritius  Africa   \n",
       "\n",
       "        system  \n",
       "0  Terrestrial  \n",
       "1  Terrestrial  \n",
       "2  Terrestrial  \n",
       "3  Terrestrial  \n",
       "4  Terrestrial  "
      ]
     },
     "execution_count": 22,
     "metadata": {},
     "output_type": "execute_result"
    }
   ],
   "source": [
    "#Checking if done correctly\n",
    "birds.head()"
   ]
  },
  {
   "cell_type": "code",
   "execution_count": 23,
   "id": "a3001242",
   "metadata": {
    "scrolled": true
   },
   "outputs": [
    {
     "data": {
      "text/html": [
       "<div>\n",
       "<style scoped>\n",
       "    .dataframe tbody tr th:only-of-type {\n",
       "        vertical-align: middle;\n",
       "    }\n",
       "\n",
       "    .dataframe tbody tr th {\n",
       "        vertical-align: top;\n",
       "    }\n",
       "\n",
       "    .dataframe thead th {\n",
       "        text-align: right;\n",
       "    }\n",
       "</style>\n",
       "<table border=\"1\" class=\"dataframe\">\n",
       "  <thead>\n",
       "    <tr style=\"text-align: right;\">\n",
       "      <th></th>\n",
       "      <th>id</th>\n",
       "      <th>scientific_name</th>\n",
       "      <th>class</th>\n",
       "      <th>order</th>\n",
       "      <th>family</th>\n",
       "      <th>genus</th>\n",
       "      <th>species</th>\n",
       "      <th>common_name</th>\n",
       "      <th>country</th>\n",
       "      <th>region</th>\n",
       "      <th>system</th>\n",
       "    </tr>\n",
       "  </thead>\n",
       "  <tbody>\n",
       "    <tr>\n",
       "      <th>30699</th>\n",
       "      <td>200634</td>\n",
       "      <td>Nannopterum_brasilianus</td>\n",
       "      <td>Aves</td>\n",
       "      <td>Suliformes</td>\n",
       "      <td>Phalacrocoracidae</td>\n",
       "      <td>Nannopterum</td>\n",
       "      <td>brasilianus</td>\n",
       "      <td>Neotropical cormorant</td>\n",
       "      <td>Brazil</td>\n",
       "      <td>Latin America and Caribbean</td>\n",
       "      <td>Marine</td>\n",
       "    </tr>\n",
       "    <tr>\n",
       "      <th>30700</th>\n",
       "      <td>200635</td>\n",
       "      <td>Nannopterum_brasilianus</td>\n",
       "      <td>Aves</td>\n",
       "      <td>Suliformes</td>\n",
       "      <td>Phalacrocoracidae</td>\n",
       "      <td>Nannopterum</td>\n",
       "      <td>brasilianus</td>\n",
       "      <td>Neotropical cormorant</td>\n",
       "      <td>Brazil</td>\n",
       "      <td>Latin America and Caribbean</td>\n",
       "      <td>Marine</td>\n",
       "    </tr>\n",
       "    <tr>\n",
       "      <th>30701</th>\n",
       "      <td>200636</td>\n",
       "      <td>Nannopterum_brasilianus</td>\n",
       "      <td>Aves</td>\n",
       "      <td>Suliformes</td>\n",
       "      <td>Phalacrocoracidae</td>\n",
       "      <td>Nannopterum</td>\n",
       "      <td>brasilianus</td>\n",
       "      <td>Neotropical cormorant</td>\n",
       "      <td>Brazil</td>\n",
       "      <td>Latin America and Caribbean</td>\n",
       "      <td>Marine</td>\n",
       "    </tr>\n",
       "    <tr>\n",
       "      <th>30703</th>\n",
       "      <td>200638</td>\n",
       "      <td>Tyrannus_savana</td>\n",
       "      <td>Aves</td>\n",
       "      <td>Passeriformes</td>\n",
       "      <td>Tyrannidae</td>\n",
       "      <td>Tyrannus</td>\n",
       "      <td>savana</td>\n",
       "      <td>Fork-tailed flycatcher</td>\n",
       "      <td>Brazil</td>\n",
       "      <td>Latin America and Caribbean</td>\n",
       "      <td>Terrestrial</td>\n",
       "    </tr>\n",
       "    <tr>\n",
       "      <th>30704</th>\n",
       "      <td>200639</td>\n",
       "      <td>Sula_leucogaster</td>\n",
       "      <td>Aves</td>\n",
       "      <td>Suliformes</td>\n",
       "      <td>Sulidae</td>\n",
       "      <td>Sula</td>\n",
       "      <td>leucogaster</td>\n",
       "      <td>Brown booby</td>\n",
       "      <td>Brazil</td>\n",
       "      <td>Latin America and Caribbean</td>\n",
       "      <td>Marine</td>\n",
       "    </tr>\n",
       "  </tbody>\n",
       "</table>\n",
       "</div>"
      ],
      "text/plain": [
       "           id          scientific_name class          order  \\\n",
       "30699  200634  Nannopterum_brasilianus  Aves     Suliformes   \n",
       "30700  200635  Nannopterum_brasilianus  Aves     Suliformes   \n",
       "30701  200636  Nannopterum_brasilianus  Aves     Suliformes   \n",
       "30703  200638          Tyrannus_savana  Aves  Passeriformes   \n",
       "30704  200639         Sula_leucogaster  Aves     Suliformes   \n",
       "\n",
       "                  family        genus      species             common_name  \\\n",
       "30699  Phalacrocoracidae  Nannopterum  brasilianus   Neotropical cormorant   \n",
       "30700  Phalacrocoracidae  Nannopterum  brasilianus   Neotropical cormorant   \n",
       "30701  Phalacrocoracidae  Nannopterum  brasilianus   Neotropical cormorant   \n",
       "30703         Tyrannidae     Tyrannus       savana  Fork-tailed flycatcher   \n",
       "30704            Sulidae         Sula  leucogaster             Brown booby   \n",
       "\n",
       "      country                       region       system  \n",
       "30699  Brazil  Latin America and Caribbean       Marine  \n",
       "30700  Brazil  Latin America and Caribbean       Marine  \n",
       "30701  Brazil  Latin America and Caribbean       Marine  \n",
       "30703  Brazil  Latin America and Caribbean  Terrestrial  \n",
       "30704  Brazil  Latin America and Caribbean       Marine  "
      ]
     },
     "execution_count": 23,
     "metadata": {},
     "output_type": "execute_result"
    }
   ],
   "source": [
    "#Checking if done correctly\n",
    "birds.tail()"
   ]
  },
  {
   "cell_type": "markdown",
   "id": "c47ca8ca",
   "metadata": {},
   "source": [
    "## 4. Save Data"
   ]
  },
  {
   "cell_type": "code",
   "execution_count": 24,
   "id": "dbe49b03",
   "metadata": {},
   "outputs": [],
   "source": [
    "#Exporting the data\n",
    "birds.to_csv(r'/Users/lynnsey/Desktop/Bootcamp/Tasks/Immersion/Task 6/09-07-2023 Living Planet Index Analysis/02 Data/Prepared Data/taxonomy.csv')"
   ]
  },
  {
   "cell_type": "code",
   "execution_count": null,
   "id": "865564d5",
   "metadata": {},
   "outputs": [],
   "source": []
  }
 ],
 "metadata": {
  "kernelspec": {
   "display_name": "Python 3 (ipykernel)",
   "language": "python",
   "name": "python3"
  },
  "language_info": {
   "codemirror_mode": {
    "name": "ipython",
    "version": 3
   },
   "file_extension": ".py",
   "mimetype": "text/x-python",
   "name": "python",
   "nbconvert_exporter": "python",
   "pygments_lexer": "ipython3",
   "version": "3.11.3"
  }
 },
 "nbformat": 4,
 "nbformat_minor": 5
}
